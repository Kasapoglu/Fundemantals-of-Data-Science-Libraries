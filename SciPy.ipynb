{
 "cells": [
  {
   "cell_type": "markdown",
   "id": "7244eb3d-d7cb-42da-91a6-a86fc8e2cead",
   "metadata": {},
   "source": [
    "# Fundemantals of SciPy"
   ]
  },
  {
   "cell_type": "markdown",
   "id": "dd103b3d-54c0-4fbd-b5a7-37497c150009",
   "metadata": {},
   "source": [
    "**SciPy (Scientific Python) is an extension of NumPy for scientific and advanced mathematical algorithms and functions.**\n",
    "* **Statistics:** Helps build hypotheses and predict the outcomes.\n",
    "* **Spatial Data:** Helps study spatial data structures and retrieve records.\n",
    "* **Image Science:** Helps study multidimensional images and their processing and understands image properties and extracts values.\n",
    "* **Mathematical Equations:** Helps solve bigger or complex problems and answers the problems.\n",
    "* **Signal Processing:** Helps process, read and understand signals.\n",
    "* **Optimization:** Helps choose the right values and improves the overall performance. "
   ]
  },
  {
   "cell_type": "markdown",
   "id": "ea447b4c-4a76-495a-af90-bf69041951ae",
   "metadata": {},
   "source": [
    "### SciPy Subpackages\n",
    "\n",
    "SciPy has multiple subpackages that cover different scientific computing domains.\n",
    "\n",
    "* **Cluster** : Handles clustering algorithms\n",
    "* **Constants** : Performs mathematical equations (such as pi)\n",
    "* **fftpack** : Computes Discrete Fourier transform routines. \n",
    "* **Integrate** : Solves mathematical sequence or series.\n",
    "* **Spatial** : Is used problems related o graphs.\n",
    "* **Interpolate** : Create new data points.\n",
    "* **IO** : Reads and writes data from and to several file formats.\n",
    "* **linalg** : Solves linear algebra problems.\n",
    "* **ndimage** : Process multidimensional images.\n",
    "* **odr** : Handles explicit and implicit functions.\n",
    "* **optimize** : Optimizes the performance.\n",
    "* **signal** : Process and transfers information in different formats.\n",
    "* **sparse** : Is a sparse matrix package\n",
    "* **weave** : Integrates C and C++\n",
    "* **stats** : Has statistical distributions and functions\n",
    "* **special** : Is used to retrieve other special functions."
   ]
  },
  {
   "cell_type": "markdown",
   "id": "cf2d1d14-1b06-4c21-8fd1-b5c27b8c41a2",
   "metadata": {},
   "source": [
    "# Problem Example"
   ]
  },
  {
   "cell_type": "markdown",
   "id": "5db90189-e634-4ec6-8857-560a56c98a41",
   "metadata": {},
   "source": [
    "**Problem Statement**\n",
    "\n",
    "Import the package linalg and use the solve the provided linear equations to find the value of x and y."
   ]
  },
  {
   "cell_type": "code",
   "execution_count": 1,
   "id": "84a14c73-4a0d-46ea-b801-fc2339a7fea2",
   "metadata": {},
   "outputs": [],
   "source": [
    "# Import Necessary Libraries\n",
    "\n",
    "import numpy as np\n",
    "from scipy import linalg"
   ]
  },
  {
   "cell_type": "code",
   "execution_count": 2,
   "id": "5e72b5ec-8fdd-4550-8352-54313eae99b7",
   "metadata": {
    "tags": []
   },
   "outputs": [],
   "source": [
    "\"\"\"\n",
    "Test has 30 questions and worth 150 marks\n",
    "True and false questions worth 4 marks each\n",
    "Multiple choice questions worth 9 marks each\n",
    "\n",
    "Let x is the number of true/false questions.\n",
    "Let y is the number of multiple choice questions\n",
    "\n",
    " (x+y = 30)\n",
    " (4x+9y = 150)\n",
    "\"\"\" \n",
    "\n",
    "testQuestionVariable = np.array([[1,1],[4,9]])\n",
    "testQuestionValue = np.array([30,150])"
   ]
  },
  {
   "cell_type": "code",
   "execution_count": 3,
   "id": "b8fb7587-797e-4445-b042-6216dac38b94",
   "metadata": {},
   "outputs": [
    {
     "data": {
      "text/plain": [
       "array([24.,  6.])"
      ]
     },
     "execution_count": 3,
     "metadata": {},
     "output_type": "execute_result"
    }
   ],
   "source": [
    "# use solve method to solve the linear equation and find value for x and y.\n",
    "\n",
    "linalg.solve(testQuestionVariable,testQuestionValue)"
   ]
  }
 ],
 "metadata": {
  "kernelspec": {
   "display_name": "Python 3 (ipykernel)",
   "language": "python",
   "name": "python3"
  },
  "language_info": {
   "codemirror_mode": {
    "name": "ipython",
    "version": 3
   },
   "file_extension": ".py",
   "mimetype": "text/x-python",
   "name": "python",
   "nbconvert_exporter": "python",
   "pygments_lexer": "ipython3",
   "version": "3.9.13"
  }
 },
 "nbformat": 4,
 "nbformat_minor": 5
}
