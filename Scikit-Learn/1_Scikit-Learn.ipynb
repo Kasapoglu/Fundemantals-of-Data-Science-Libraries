{
 "cells": [
  {
   "cell_type": "markdown",
   "id": "08c8ced9-da6c-441d-9029-239893ff4edb",
   "metadata": {},
   "source": [
    "# Fundemantals of Scikit-Learn "
   ]
  },
  {
   "cell_type": "markdown",
   "id": "a63e1175-4cc8-4d8d-be49-c328d1f8c962",
   "metadata": {},
   "source": [
    "Scikit is a powerful and modern machine learning Python Library\n",
    "\n",
    "It is used for fully and semi-automated data analysis and information extraction. "
   ]
  },
  {
   "cell_type": "markdown",
   "id": "cd817f72-3e74-48df-b1a7-02314fcafd31",
   "metadata": {},
   "source": [
    "It is used to build a machine learning model that has features like:\n",
    "* Classification\n",
    "* Regression\n",
    "* Clustering"
   ]
  },
  {
   "cell_type": "markdown",
   "id": "64fac27e-90e6-4bf5-a743-974f594444b8",
   "metadata": {},
   "source": [
    "The scikit-learn library includes various algorithms like:\n",
    "* K-means\n",
    "* K-nearest neighbours\n",
    "* Support vector machine\n",
    "* Decision trees"
   ]
  },
  {
   "cell_type": "markdown",
   "id": "e913643f-19e5-4e01-9ad0-448a6bbeb2ff",
   "metadata": {},
   "source": [
    "### Scikit-Learn Problem-Solution Approach\n",
    "\n",
    "Scikit-learn helps data scientist and machine learning engineers solve problem using the problem-solution approach.\n",
    "\n",
    "<pre>\n",
    "1-(Selecting a model) > 2-(Finding an estimator object) > 3-(Training the Model) > 4-(Making Predictions) > \n",
    "\n",
    "5-(Tuning the Models) > 6-(Finding Accuracy)\n",
    "<pre>"
   ]
  },
  {
   "cell_type": "markdown",
   "id": "06488e1a-2e2d-4870-afca-f27371187158",
   "metadata": {
    "tags": []
   },
   "source": [
    "### Scikit-Learn Problem-Solution Considerations\n",
    "\n",
    "Points to be considered while working with a scikit-learn dataset or loading data to scikit-learn:\n",
    "\n",
    "* Create seperate objects for features and responses.\n",
    "* Ensure features and responses only have numeric values\n",
    "* Verify that the features and responses are in the form of a NumPy ndarray\n",
    "* Ensure the features and responses have the same shape and size as the array\n",
    "* Map the features as x and responses as y"
   ]
  },
  {
   "cell_type": "markdown",
   "id": "6411ec65-6048-48cc-a17c-5f3b065719c5",
   "metadata": {},
   "source": [
    "### Scikit-Learn Datasets\n",
    "\n",
    "Scikit-learn provides sample datasets that can be used for clustering,regression and classification problems.\n",
    "* Boston house prices\n",
    "* Irish plants\n",
    "* Wine recognition\n",
    "* Breast cancer\n",
    "* Digits\n",
    "* Diabetes"
   ]
  },
  {
   "cell_type": "code",
   "execution_count": 1,
   "id": "ad00faf2-f296-48aa-a61e-99814865ec09",
   "metadata": {},
   "outputs": [],
   "source": [
    "# Import the datasets\n",
    "\n",
    "from sklearn import datasets"
   ]
  },
  {
   "cell_type": "code",
   "execution_count": 2,
   "id": "bdd9a10f-8d62-4afb-b833-c13ef12e418a",
   "metadata": {},
   "outputs": [],
   "source": [
    "# Use the load_dataset() method to load\n",
    "\n",
    "data = datasets.load_breast_cancer() # it will return a dictionary with the key and value ."
   ]
  },
  {
   "cell_type": "code",
   "execution_count": 3,
   "id": "8bec5a9c-412f-421e-99b6-c232f51627ec",
   "metadata": {},
   "outputs": [
    {
     "data": {
      "text/plain": [
       "dict_keys(['data', 'target', 'frame', 'target_names', 'DESCR', 'feature_names', 'filename', 'data_module'])"
      ]
     },
     "execution_count": 3,
     "metadata": {},
     "output_type": "execute_result"
    }
   ],
   "source": [
    "# The keys of datasets\n",
    "\n",
    "data.keys()"
   ]
  },
  {
   "cell_type": "code",
   "execution_count": 4,
   "id": "c738290c-1911-44b8-a0c5-019b5befa645",
   "metadata": {},
   "outputs": [],
   "source": [
    "# To import a dataset in a key-value pair\n",
    "# Import necessary libraries\n",
    "\n",
    "import pandas as pd\n",
    "import numpy as np"
   ]
  },
  {
   "cell_type": "code",
   "execution_count": 5,
   "id": "1e00a35b-8eda-4b06-aba4-de66f0a14695",
   "metadata": {},
   "outputs": [],
   "source": [
    "# Convert the data to a dataframe\n",
    "# Read the Dataframe, first using the feature_names\n",
    "\n",
    "df = pd.DataFrame(data.data,columns=data.feature_names)\n",
    "\n",
    "# Add a target column, and fill it with the target data.\n",
    "\n",
    "df['target'] = data.target"
   ]
  },
  {
   "cell_type": "code",
   "execution_count": 6,
   "id": "5f2b3a60-20a8-40d9-81f7-8c5fe36d2300",
   "metadata": {},
   "outputs": [
    {
     "data": {
      "text/html": [
       "<div>\n",
       "<style scoped>\n",
       "    .dataframe tbody tr th:only-of-type {\n",
       "        vertical-align: middle;\n",
       "    }\n",
       "\n",
       "    .dataframe tbody tr th {\n",
       "        vertical-align: top;\n",
       "    }\n",
       "\n",
       "    .dataframe thead th {\n",
       "        text-align: right;\n",
       "    }\n",
       "</style>\n",
       "<table border=\"1\" class=\"dataframe\">\n",
       "  <thead>\n",
       "    <tr style=\"text-align: right;\">\n",
       "      <th></th>\n",
       "      <th>mean radius</th>\n",
       "      <th>mean texture</th>\n",
       "      <th>mean perimeter</th>\n",
       "      <th>mean area</th>\n",
       "      <th>mean smoothness</th>\n",
       "      <th>mean compactness</th>\n",
       "      <th>mean concavity</th>\n",
       "      <th>mean concave points</th>\n",
       "      <th>mean symmetry</th>\n",
       "      <th>mean fractal dimension</th>\n",
       "      <th>...</th>\n",
       "      <th>worst texture</th>\n",
       "      <th>worst perimeter</th>\n",
       "      <th>worst area</th>\n",
       "      <th>worst smoothness</th>\n",
       "      <th>worst compactness</th>\n",
       "      <th>worst concavity</th>\n",
       "      <th>worst concave points</th>\n",
       "      <th>worst symmetry</th>\n",
       "      <th>worst fractal dimension</th>\n",
       "      <th>target</th>\n",
       "    </tr>\n",
       "  </thead>\n",
       "  <tbody>\n",
       "    <tr>\n",
       "      <th>0</th>\n",
       "      <td>17.99</td>\n",
       "      <td>10.38</td>\n",
       "      <td>122.80</td>\n",
       "      <td>1001.0</td>\n",
       "      <td>0.11840</td>\n",
       "      <td>0.27760</td>\n",
       "      <td>0.3001</td>\n",
       "      <td>0.14710</td>\n",
       "      <td>0.2419</td>\n",
       "      <td>0.07871</td>\n",
       "      <td>...</td>\n",
       "      <td>17.33</td>\n",
       "      <td>184.60</td>\n",
       "      <td>2019.0</td>\n",
       "      <td>0.1622</td>\n",
       "      <td>0.6656</td>\n",
       "      <td>0.7119</td>\n",
       "      <td>0.2654</td>\n",
       "      <td>0.4601</td>\n",
       "      <td>0.11890</td>\n",
       "      <td>0</td>\n",
       "    </tr>\n",
       "    <tr>\n",
       "      <th>1</th>\n",
       "      <td>20.57</td>\n",
       "      <td>17.77</td>\n",
       "      <td>132.90</td>\n",
       "      <td>1326.0</td>\n",
       "      <td>0.08474</td>\n",
       "      <td>0.07864</td>\n",
       "      <td>0.0869</td>\n",
       "      <td>0.07017</td>\n",
       "      <td>0.1812</td>\n",
       "      <td>0.05667</td>\n",
       "      <td>...</td>\n",
       "      <td>23.41</td>\n",
       "      <td>158.80</td>\n",
       "      <td>1956.0</td>\n",
       "      <td>0.1238</td>\n",
       "      <td>0.1866</td>\n",
       "      <td>0.2416</td>\n",
       "      <td>0.1860</td>\n",
       "      <td>0.2750</td>\n",
       "      <td>0.08902</td>\n",
       "      <td>0</td>\n",
       "    </tr>\n",
       "    <tr>\n",
       "      <th>2</th>\n",
       "      <td>19.69</td>\n",
       "      <td>21.25</td>\n",
       "      <td>130.00</td>\n",
       "      <td>1203.0</td>\n",
       "      <td>0.10960</td>\n",
       "      <td>0.15990</td>\n",
       "      <td>0.1974</td>\n",
       "      <td>0.12790</td>\n",
       "      <td>0.2069</td>\n",
       "      <td>0.05999</td>\n",
       "      <td>...</td>\n",
       "      <td>25.53</td>\n",
       "      <td>152.50</td>\n",
       "      <td>1709.0</td>\n",
       "      <td>0.1444</td>\n",
       "      <td>0.4245</td>\n",
       "      <td>0.4504</td>\n",
       "      <td>0.2430</td>\n",
       "      <td>0.3613</td>\n",
       "      <td>0.08758</td>\n",
       "      <td>0</td>\n",
       "    </tr>\n",
       "    <tr>\n",
       "      <th>3</th>\n",
       "      <td>11.42</td>\n",
       "      <td>20.38</td>\n",
       "      <td>77.58</td>\n",
       "      <td>386.1</td>\n",
       "      <td>0.14250</td>\n",
       "      <td>0.28390</td>\n",
       "      <td>0.2414</td>\n",
       "      <td>0.10520</td>\n",
       "      <td>0.2597</td>\n",
       "      <td>0.09744</td>\n",
       "      <td>...</td>\n",
       "      <td>26.50</td>\n",
       "      <td>98.87</td>\n",
       "      <td>567.7</td>\n",
       "      <td>0.2098</td>\n",
       "      <td>0.8663</td>\n",
       "      <td>0.6869</td>\n",
       "      <td>0.2575</td>\n",
       "      <td>0.6638</td>\n",
       "      <td>0.17300</td>\n",
       "      <td>0</td>\n",
       "    </tr>\n",
       "    <tr>\n",
       "      <th>4</th>\n",
       "      <td>20.29</td>\n",
       "      <td>14.34</td>\n",
       "      <td>135.10</td>\n",
       "      <td>1297.0</td>\n",
       "      <td>0.10030</td>\n",
       "      <td>0.13280</td>\n",
       "      <td>0.1980</td>\n",
       "      <td>0.10430</td>\n",
       "      <td>0.1809</td>\n",
       "      <td>0.05883</td>\n",
       "      <td>...</td>\n",
       "      <td>16.67</td>\n",
       "      <td>152.20</td>\n",
       "      <td>1575.0</td>\n",
       "      <td>0.1374</td>\n",
       "      <td>0.2050</td>\n",
       "      <td>0.4000</td>\n",
       "      <td>0.1625</td>\n",
       "      <td>0.2364</td>\n",
       "      <td>0.07678</td>\n",
       "      <td>0</td>\n",
       "    </tr>\n",
       "  </tbody>\n",
       "</table>\n",
       "<p>5 rows × 31 columns</p>\n",
       "</div>"
      ],
      "text/plain": [
       "   mean radius  mean texture  mean perimeter  mean area  mean smoothness  \\\n",
       "0        17.99         10.38          122.80     1001.0          0.11840   \n",
       "1        20.57         17.77          132.90     1326.0          0.08474   \n",
       "2        19.69         21.25          130.00     1203.0          0.10960   \n",
       "3        11.42         20.38           77.58      386.1          0.14250   \n",
       "4        20.29         14.34          135.10     1297.0          0.10030   \n",
       "\n",
       "   mean compactness  mean concavity  mean concave points  mean symmetry  \\\n",
       "0           0.27760          0.3001              0.14710         0.2419   \n",
       "1           0.07864          0.0869              0.07017         0.1812   \n",
       "2           0.15990          0.1974              0.12790         0.2069   \n",
       "3           0.28390          0.2414              0.10520         0.2597   \n",
       "4           0.13280          0.1980              0.10430         0.1809   \n",
       "\n",
       "   mean fractal dimension  ...  worst texture  worst perimeter  worst area  \\\n",
       "0                 0.07871  ...          17.33           184.60      2019.0   \n",
       "1                 0.05667  ...          23.41           158.80      1956.0   \n",
       "2                 0.05999  ...          25.53           152.50      1709.0   \n",
       "3                 0.09744  ...          26.50            98.87       567.7   \n",
       "4                 0.05883  ...          16.67           152.20      1575.0   \n",
       "\n",
       "   worst smoothness  worst compactness  worst concavity  worst concave points  \\\n",
       "0            0.1622             0.6656           0.7119                0.2654   \n",
       "1            0.1238             0.1866           0.2416                0.1860   \n",
       "2            0.1444             0.4245           0.4504                0.2430   \n",
       "3            0.2098             0.8663           0.6869                0.2575   \n",
       "4            0.1374             0.2050           0.4000                0.1625   \n",
       "\n",
       "   worst symmetry  worst fractal dimension  target  \n",
       "0          0.4601                  0.11890       0  \n",
       "1          0.2750                  0.08902       0  \n",
       "2          0.3613                  0.08758       0  \n",
       "3          0.6638                  0.17300       0  \n",
       "4          0.2364                  0.07678       0  \n",
       "\n",
       "[5 rows x 31 columns]"
      ]
     },
     "execution_count": 6,
     "metadata": {},
     "output_type": "execute_result"
    }
   ],
   "source": [
    "# Show the first five rows.\n",
    "\n",
    "df.head()"
   ]
  },
  {
   "cell_type": "markdown",
   "id": "0b2d9acf-ef45-45b5-9002-3350a333afd6",
   "metadata": {
    "tags": []
   },
   "source": [
    "### Preprocessing Data in Scikit-Learn Part-1"
   ]
  },
  {
   "cell_type": "markdown",
   "id": "ace004a7-e3ed-4b83-9b16-02e7949040a4",
   "metadata": {},
   "source": [
    "The sklearn.preprocessing package includes a set of common utility methods and transformer classes \n",
    "for transforming raw feature vector into the best fitting representation for downstream estimators.\n",
    "\n",
    "These are:"
   ]
  },
  {
   "cell_type": "markdown",
   "id": "c8b5f82a-9943-448d-92f4-964250990b3a",
   "metadata": {},
   "source": [
    "**1-Standardization:**\n",
    "\n",
    "It is scaling technique with data values that are normally distributed.Standardization also tends to make the dataset's mean 0 and its standard deviation 1."
   ]
  },
  {
   "cell_type": "code",
   "execution_count": 7,
   "id": "ddb833d6-779d-4a8b-889a-20f79cf8e36d",
   "metadata": {},
   "outputs": [],
   "source": [
    "# The preprocessing module provides the StandardScaler utility class to perform the following operation on the dataset:\n",
    "\n",
    "df1 = pd.DataFrame({\"x\":np.random.normal(0,3,10000),\n",
    "                    \"y\":np.random.normal(6,4,10000),\n",
    "                    \"z\":np.random.normal(-6,6,10000)})"
   ]
  },
  {
   "cell_type": "code",
   "execution_count": 8,
   "id": "fe6d4a14-fb40-4b3a-aa99-286ffd98c4b6",
   "metadata": {},
   "outputs": [
    {
     "data": {
      "text/plain": [
       "<AxesSubplot:ylabel='Density'>"
      ]
     },
     "execution_count": 8,
     "metadata": {},
     "output_type": "execute_result"
    },
    {
     "data": {
      "image/png": "[encoded data removed]",
      "text/plain": [
       "<Figure size 640x480 with 1 Axes>"
      ]
     },
     "metadata": {},
     "output_type": "display_data"
    }
   ],
   "source": [
    "# Examine the plot to know if the data is on the same scale\n",
    "\n",
    "df1.plot.kde()"
   ]
  },
  {
   "cell_type": "code",
   "execution_count": 9,
   "id": "52bd1dd8-d763-403b-92cd-527de751a3da",
   "metadata": {},
   "outputs": [],
   "source": [
    "# Use StandardScaler to keep the values of x,y and z on the same scale. \n",
    "\n",
    "from sklearn.preprocessing import StandardScaler\n",
    "standardscaler = StandardScaler()\n",
    "\n",
    "data_tf = standardscaler.fit_transform(df1)"
   ]
  },
  {
   "cell_type": "code",
   "execution_count": 10,
   "id": "c453d7cd-d6dc-43b7-b2c9-8cc8fe928744",
   "metadata": {},
   "outputs": [
    {
     "data": {
      "text/plain": [
       "<AxesSubplot:ylabel='Density'>"
      ]
     },
     "execution_count": 10,
     "metadata": {},
     "output_type": "execute_result"
    },
    {
     "data": {
      "image/png": "[encoded data removed]",
      "text/plain": [
       "<Figure size 640x480 with 1 Axes>"
      ]
     },
     "metadata": {},
     "output_type": "display_data"
    }
   ],
   "source": [
    "# The x,y and z values are displayed on the same scale in the graph given below.\n",
    "\n",
    "df1 = pd.DataFrame(data_tf,columns=[\"x\",\"y\",\"z\"])\n",
    "df1.plot.kde()"
   ]
  },
  {
   "cell_type": "markdown",
   "id": "727db330-ed0a-4a48-bfc4-b4cea14cae36",
   "metadata": {
    "tags": []
   },
   "source": [
    "### Preprocessing Data in Scikit-Learn Part-2"
   ]
  },
  {
   "cell_type": "markdown",
   "id": "c2175175-604d-4ed5-812b-abda7c3d1dde",
   "metadata": {},
   "source": [
    "**2-Normalization:**\n",
    "\n",
    "Normalization is a scikit-learn approach that rescale each observation to a length of 1 which is a unit form in linear algebra.\n",
    "* Normalizer class software is best used for normalizing data in Python."
   ]
  },
  {
   "cell_type": "markdown",
   "id": "4515cd97-3acc-409f-b7f9-f64ff1af64aa",
   "metadata": {},
   "source": [
    "The following functions are used to achieve functionality to complete normalization;\n",
    "* **fit(data)** : It computes the mean and standard deviation for a given feature\n",
    "* **transform(data)** : It generates a transform dataset using mean and standard deviation.Which are calculated uing the fit method.\n",
    "* **fit_transform()**"
   ]
  },
  {
   "cell_type": "markdown",
   "id": "6ee1fc30-a980-449f-ab8d-a84d75339f1d",
   "metadata": {},
   "source": [
    "**Normalization Using MinMaxScaler**\n",
    "\n",
    "MinMaxScaler scales each feature to a defined range this estimator does this to each feature seperately so that it falls within the range given on the training set,for example between 0 and 1."
   ]
  },
  {
   "cell_type": "code",
   "execution_count": 11,
   "id": "ebdad36c-aa67-4982-97c4-a8654b7db31f",
   "metadata": {},
   "outputs": [],
   "source": [
    "# Example of MinMaxScaler\n",
    "\n",
    "df2 = pd.DataFrame(\n",
    "                    {\"x\":np.random.chisquare(8,1000), # positive skew\n",
    "                     \"y\":np.random.beta(8,2,1000)*40,     # negative skew\n",
    "                     \"z\":np.random.normal(50,3,1000)}    # no skew\n",
    "                  )"
   ]
  },
  {
   "cell_type": "code",
   "execution_count": 12,
   "id": "8129bd44-f9e0-400d-b3fa-8bb26c048b65",
   "metadata": {},
   "outputs": [
    {
     "data": {
      "text/plain": [
       "<AxesSubplot:ylabel='Density'>"
      ]
     },
     "execution_count": 12,
     "metadata": {},
     "output_type": "execute_result"
    },
    {
     "data": {
      "image/png": "[encoded data removed]",
      "text/plain": [
       "<Figure size 640x480 with 1 Axes>"
      ]
     },
     "metadata": {},
     "output_type": "display_data"
    }
   ],
   "source": [
    "# Visualize the plot to see if the data is normalized\n",
    "\n",
    "df2.plot.kde()"
   ]
  },
  {
   "cell_type": "code",
   "execution_count": 13,
   "id": "1f580501-7470-46f5-aee1-a0c2d1bbcd12",
   "metadata": {},
   "outputs": [
    {
     "data": {
      "text/plain": [
       "<AxesSubplot:ylabel='Density'>"
      ]
     },
     "execution_count": 13,
     "metadata": {},
     "output_type": "execute_result"
    },
    {
     "data": {
      "image/png": "[encoded data removed]",
      "text/plain": [
       "<Figure size 640x480 with 1 Axes>"
      ]
     },
     "metadata": {},
     "output_type": "display_data"
    }
   ],
   "source": [
    "# Use the MinMaxScaler function to normalize the values of x,y,z\n",
    "\n",
    "from sklearn.preprocessing import MinMaxScaler\n",
    "minmax = MinMaxScaler()\n",
    "\n",
    "data_tf2 = minmax.fit_transform(df2)\n",
    "df2= pd.DataFrame(data_tf2,columns=[\"x1\",\"x2\",\"x3\"])\n",
    "df2.plot.kde()"
   ]
  },
  {
   "cell_type": "markdown",
   "id": "e7fcdbf1-4829-4101-9ed3-f76a20260c9f",
   "metadata": {
    "tags": []
   },
   "source": [
    "### Preprocessing Data in Scikit-Learn Part-3"
   ]
  },
  {
   "cell_type": "markdown",
   "id": "2d545aaa-258f-4b7c-8974-0499c5d8f906",
   "metadata": {},
   "source": [
    "**3-Imputation of Missing Values**\n",
    "\n",
    "Algorithms cannot process missing values.Imputers infer the value of missing data from existing data. "
   ]
  },
  {
   "cell_type": "code",
   "execution_count": 14,
   "id": "6706652d-9548-49a5-8fb0-360e5a9e3c39",
   "metadata": {},
   "outputs": [
    {
     "data": {
      "text/plain": [
       "array([[2., 2.],\n",
       "       [6., 5.],\n",
       "       [7., 6.]])"
      ]
     },
     "execution_count": 14,
     "metadata": {},
     "output_type": "execute_result"
    }
   ],
   "source": [
    "# Example\n",
    "\n",
    "from sklearn.impute import SimpleImputer\n",
    "\n",
    "impValues = SimpleImputer(missing_values=np.nan,strategy=\"mean\") # SimpleImputer replaces the NaN values with mean values\n",
    "impValues.fit([[3,5],[np.nan,7],[1,3]])\n",
    "\n",
    "X = [[np.nan,2],[6,np.nan],[7,6]]\n",
    "\n",
    "impValues.transform(X)"
   ]
  },
  {
   "cell_type": "markdown",
   "id": "fbdc0dc9-df16-47f7-bf93-2ebbedd7e8a7",
   "metadata": {},
   "source": [
    "**4-Categorical Variable**\n",
    "\n",
    "A Categorical variable is one that has a finite number of possible values and assigns each individual or other unit of observation to a specific group based on some qualitative property.\n",
    "* Roll of a six-sided dice\n",
    "    * Probable outcomes 1,2,3,4,5,6\n",
    "* Demografic information of a population\n",
    "    * Such as gender,age stats of a disease"
   ]
  },
  {
   "cell_type": "markdown",
   "id": "a97b1963-9a97-4872-b7e6-2592379b93e7",
   "metadata": {},
   "source": [
    "**Encoding Categorical Variable**\n",
    "\n",
    "To deal ith categorical variables ,use encoding schemas like:\n",
    "\n",
    "<pre>\n",
    "1- Ordinal Encoding\n",
    "\n",
    "2- One-hot Encoding\n",
    "<pre>"
   ]
  },
  {
   "cell_type": "markdown",
   "id": "9246b4be-e5ba-4403-91ef-204398b7c22a",
   "metadata": {
    "tags": []
   },
   "source": [
    "#### Ordinal Encoding\n",
    "\n",
    "It assigns each unique value to a different variable"
   ]
  },
  {
   "cell_type": "code",
   "execution_count": 15,
   "id": "da0db2ec-4a9a-42b6-9a97-bb77783e9d8d",
   "metadata": {},
   "outputs": [
    {
     "data": {
      "text/html": [
       "<div>\n",
       "<style scoped>\n",
       "    .dataframe tbody tr th:only-of-type {\n",
       "        vertical-align: middle;\n",
       "    }\n",
       "\n",
       "    .dataframe tbody tr th {\n",
       "        vertical-align: top;\n",
       "    }\n",
       "\n",
       "    .dataframe thead th {\n",
       "        text-align: right;\n",
       "    }\n",
       "</style>\n",
       "<table border=\"1\" class=\"dataframe\">\n",
       "  <thead>\n",
       "    <tr style=\"text-align: right;\">\n",
       "      <th></th>\n",
       "      <th>Age</th>\n",
       "      <th>Income</th>\n",
       "    </tr>\n",
       "  </thead>\n",
       "  <tbody>\n",
       "    <tr>\n",
       "      <th>0</th>\n",
       "      <td>12</td>\n",
       "      <td>Low</td>\n",
       "    </tr>\n",
       "    <tr>\n",
       "      <th>1</th>\n",
       "      <td>34</td>\n",
       "      <td>Low</td>\n",
       "    </tr>\n",
       "    <tr>\n",
       "      <th>2</th>\n",
       "      <td>56</td>\n",
       "      <td>High</td>\n",
       "    </tr>\n",
       "    <tr>\n",
       "      <th>3</th>\n",
       "      <td>22</td>\n",
       "      <td>Medium</td>\n",
       "    </tr>\n",
       "    <tr>\n",
       "      <th>4</th>\n",
       "      <td>24</td>\n",
       "      <td>Medium</td>\n",
       "    </tr>\n",
       "    <tr>\n",
       "      <th>5</th>\n",
       "      <td>35</td>\n",
       "      <td>High</td>\n",
       "    </tr>\n",
       "  </tbody>\n",
       "</table>\n",
       "</div>"
      ],
      "text/plain": [
       "   Age  Income\n",
       "0   12     Low\n",
       "1   34     Low\n",
       "2   56    High\n",
       "3   22  Medium\n",
       "4   24  Medium\n",
       "5   35    High"
      ]
     },
     "execution_count": 15,
     "metadata": {},
     "output_type": "execute_result"
    }
   ],
   "source": [
    "# Example\n",
    "\n",
    "data = pd.DataFrame({\"Age\":[12,34,56,22,24,35],\n",
    "                     \"Income\":[\"Low\",\"Low\",\"High\",\"Medium\",\"Medium\",\"High\"]})\n",
    "\n",
    "data"
   ]
  },
  {
   "cell_type": "code",
   "execution_count": 16,
   "id": "003bc69c-4aa5-499d-85fc-2a5ef4440abe",
   "metadata": {},
   "outputs": [
    {
     "data": {
      "text/plain": [
       "0    1\n",
       "1    1\n",
       "2    3\n",
       "3    2\n",
       "4    2\n",
       "5    3\n",
       "Name: Income, dtype: int64"
      ]
     },
     "execution_count": 16,
     "metadata": {},
     "output_type": "execute_result"
    }
   ],
   "source": [
    "data.Income.map({\"Low\":1,\"Medium\":2,\"High\":3})  # This technique assumes that the categories are ordered 1-2-3 respectively."
   ]
  },
  {
   "cell_type": "markdown",
   "id": "8b841d6e-1958-467a-bb67-620e683049af",
   "metadata": {
    "tags": []
   },
   "source": [
    "#### One-Hot Encoding\n",
    "\n",
    "It adds extra column to the original data to indicate if every possible values is present."
   ]
  },
  {
   "cell_type": "code",
   "execution_count": 17,
   "id": "e2d6ddee-7f96-434b-b4ad-99398bfcaef5",
   "metadata": {},
   "outputs": [
    {
     "data": {
      "text/html": [
       "<div>\n",
       "<style scoped>\n",
       "    .dataframe tbody tr th:only-of-type {\n",
       "        vertical-align: middle;\n",
       "    }\n",
       "\n",
       "    .dataframe tbody tr th {\n",
       "        vertical-align: top;\n",
       "    }\n",
       "\n",
       "    .dataframe thead th {\n",
       "        text-align: right;\n",
       "    }\n",
       "</style>\n",
       "<table border=\"1\" class=\"dataframe\">\n",
       "  <thead>\n",
       "    <tr style=\"text-align: right;\">\n",
       "      <th></th>\n",
       "      <th>species</th>\n",
       "      <th>island</th>\n",
       "      <th>bill_length_mm</th>\n",
       "      <th>bill_depth_mm</th>\n",
       "      <th>flipper_length_mm</th>\n",
       "      <th>body_mass_g</th>\n",
       "      <th>sex</th>\n",
       "    </tr>\n",
       "  </thead>\n",
       "  <tbody>\n",
       "    <tr>\n",
       "      <th>0</th>\n",
       "      <td>Adelie</td>\n",
       "      <td>Torgersen</td>\n",
       "      <td>39.1</td>\n",
       "      <td>18.7</td>\n",
       "      <td>181.0</td>\n",
       "      <td>3750.0</td>\n",
       "      <td>Male</td>\n",
       "    </tr>\n",
       "    <tr>\n",
       "      <th>1</th>\n",
       "      <td>Adelie</td>\n",
       "      <td>Torgersen</td>\n",
       "      <td>39.5</td>\n",
       "      <td>17.4</td>\n",
       "      <td>186.0</td>\n",
       "      <td>3800.0</td>\n",
       "      <td>Female</td>\n",
       "    </tr>\n",
       "    <tr>\n",
       "      <th>2</th>\n",
       "      <td>Adelie</td>\n",
       "      <td>Torgersen</td>\n",
       "      <td>40.3</td>\n",
       "      <td>18.0</td>\n",
       "      <td>195.0</td>\n",
       "      <td>3250.0</td>\n",
       "      <td>Female</td>\n",
       "    </tr>\n",
       "    <tr>\n",
       "      <th>3</th>\n",
       "      <td>Adelie</td>\n",
       "      <td>Torgersen</td>\n",
       "      <td>NaN</td>\n",
       "      <td>NaN</td>\n",
       "      <td>NaN</td>\n",
       "      <td>NaN</td>\n",
       "      <td>NaN</td>\n",
       "    </tr>\n",
       "    <tr>\n",
       "      <th>4</th>\n",
       "      <td>Adelie</td>\n",
       "      <td>Torgersen</td>\n",
       "      <td>36.7</td>\n",
       "      <td>19.3</td>\n",
       "      <td>193.0</td>\n",
       "      <td>3450.0</td>\n",
       "      <td>Female</td>\n",
       "    </tr>\n",
       "    <tr>\n",
       "      <th>...</th>\n",
       "      <td>...</td>\n",
       "      <td>...</td>\n",
       "      <td>...</td>\n",
       "      <td>...</td>\n",
       "      <td>...</td>\n",
       "      <td>...</td>\n",
       "      <td>...</td>\n",
       "    </tr>\n",
       "    <tr>\n",
       "      <th>339</th>\n",
       "      <td>Gentoo</td>\n",
       "      <td>Biscoe</td>\n",
       "      <td>NaN</td>\n",
       "      <td>NaN</td>\n",
       "      <td>NaN</td>\n",
       "      <td>NaN</td>\n",
       "      <td>NaN</td>\n",
       "    </tr>\n",
       "    <tr>\n",
       "      <th>340</th>\n",
       "      <td>Gentoo</td>\n",
       "      <td>Biscoe</td>\n",
       "      <td>46.8</td>\n",
       "      <td>14.3</td>\n",
       "      <td>215.0</td>\n",
       "      <td>4850.0</td>\n",
       "      <td>Female</td>\n",
       "    </tr>\n",
       "    <tr>\n",
       "      <th>341</th>\n",
       "      <td>Gentoo</td>\n",
       "      <td>Biscoe</td>\n",
       "      <td>50.4</td>\n",
       "      <td>15.7</td>\n",
       "      <td>222.0</td>\n",
       "      <td>5750.0</td>\n",
       "      <td>Male</td>\n",
       "    </tr>\n",
       "    <tr>\n",
       "      <th>342</th>\n",
       "      <td>Gentoo</td>\n",
       "      <td>Biscoe</td>\n",
       "      <td>45.2</td>\n",
       "      <td>14.8</td>\n",
       "      <td>212.0</td>\n",
       "      <td>5200.0</td>\n",
       "      <td>Female</td>\n",
       "    </tr>\n",
       "    <tr>\n",
       "      <th>343</th>\n",
       "      <td>Gentoo</td>\n",
       "      <td>Biscoe</td>\n",
       "      <td>49.9</td>\n",
       "      <td>16.1</td>\n",
       "      <td>213.0</td>\n",
       "      <td>5400.0</td>\n",
       "      <td>Male</td>\n",
       "    </tr>\n",
       "  </tbody>\n",
       "</table>\n",
       "<p>344 rows × 7 columns</p>\n",
       "</div>"
      ],
      "text/plain": [
       "    species     island  bill_length_mm  bill_depth_mm  flipper_length_mm  \\\n",
       "0    Adelie  Torgersen            39.1           18.7              181.0   \n",
       "1    Adelie  Torgersen            39.5           17.4              186.0   \n",
       "2    Adelie  Torgersen            40.3           18.0              195.0   \n",
       "3    Adelie  Torgersen             NaN            NaN                NaN   \n",
       "4    Adelie  Torgersen            36.7           19.3              193.0   \n",
       "..      ...        ...             ...            ...                ...   \n",
       "339  Gentoo     Biscoe             NaN            NaN                NaN   \n",
       "340  Gentoo     Biscoe            46.8           14.3              215.0   \n",
       "341  Gentoo     Biscoe            50.4           15.7              222.0   \n",
       "342  Gentoo     Biscoe            45.2           14.8              212.0   \n",
       "343  Gentoo     Biscoe            49.9           16.1              213.0   \n",
       "\n",
       "     body_mass_g     sex  \n",
       "0         3750.0    Male  \n",
       "1         3800.0  Female  \n",
       "2         3250.0  Female  \n",
       "3            NaN     NaN  \n",
       "4         3450.0  Female  \n",
       "..           ...     ...  \n",
       "339          NaN     NaN  \n",
       "340       4850.0  Female  \n",
       "341       5750.0    Male  \n",
       "342       5200.0  Female  \n",
       "343       5400.0    Male  \n",
       "\n",
       "[344 rows x 7 columns]"
      ]
     },
     "execution_count": 17,
     "metadata": {},
     "output_type": "execute_result"
    }
   ],
   "source": [
    "# Example\n",
    "\n",
    "# Import OneHotEncoder\n",
    "# Import seaborn datasets to use one-hot encoding\n",
    "from sklearn.preprocessing import OneHotEncoder\n",
    "from seaborn import load_dataset\n",
    "\n",
    "# Dataset is loaded into a Pandas DataFrame data\n",
    "data2 = load_dataset(\"penguins\")\n",
    "data2"
   ]
  },
  {
   "cell_type": "code",
   "execution_count": 18,
   "id": "52134036-d224-4189-9d4b-cca04e3a1576",
   "metadata": {},
   "outputs": [],
   "source": [
    "# Instantiate a OneHotEncoder object and assign it to a variable\n",
    "\n",
    "ohe = OneHotEncoder()"
   ]
  },
  {
   "cell_type": "code",
   "execution_count": 19,
   "id": "7ce9e377-4705-4b3e-a96b-71486de9a3d1",
   "metadata": {},
   "outputs": [
    {
     "data": {
      "text/plain": [
       "array([[0., 0., 1.],\n",
       "       [0., 0., 1.],\n",
       "       [0., 0., 1.],\n",
       "       ...,\n",
       "       [1., 0., 0.],\n",
       "       [1., 0., 0.],\n",
       "       [1., 0., 0.]])"
      ]
     },
     "execution_count": 19,
     "metadata": {},
     "output_type": "execute_result"
    }
   ],
   "source": [
    "# Fit and transform the data\n",
    "\n",
    "transform = ohe.fit_transform(data2[[\"island\"]])\n",
    "transform.toarray() # Three columns are present in the array in the binary form because there are three unique values in the island column"
   ]
  },
  {
   "cell_type": "code",
   "execution_count": 20,
   "id": "ccd57c79-510e-48c3-9bdd-54df4157b13e",
   "metadata": {},
   "outputs": [
    {
     "data": {
      "text/plain": [
       "[array(['Biscoe', 'Dream', 'Torgersen'], dtype=object)]"
      ]
     },
     "execution_count": 20,
     "metadata": {},
     "output_type": "execute_result"
    }
   ],
   "source": [
    "# Print one hot encoded categories to know the column labels \n",
    "ohe.categories_"
   ]
  },
  {
   "cell_type": "code",
   "execution_count": 21,
   "id": "de228462-b0c4-454f-a9a6-16d200d30912",
   "metadata": {},
   "outputs": [
    {
     "data": {
      "text/html": [
       "<div>\n",
       "<style scoped>\n",
       "    .dataframe tbody tr th:only-of-type {\n",
       "        vertical-align: middle;\n",
       "    }\n",
       "\n",
       "    .dataframe tbody tr th {\n",
       "        vertical-align: top;\n",
       "    }\n",
       "\n",
       "    .dataframe thead th {\n",
       "        text-align: right;\n",
       "    }\n",
       "</style>\n",
       "<table border=\"1\" class=\"dataframe\">\n",
       "  <thead>\n",
       "    <tr style=\"text-align: right;\">\n",
       "      <th></th>\n",
       "      <th>species</th>\n",
       "      <th>island</th>\n",
       "      <th>bill_length_mm</th>\n",
       "      <th>bill_depth_mm</th>\n",
       "      <th>flipper_length_mm</th>\n",
       "      <th>body_mass_g</th>\n",
       "      <th>sex</th>\n",
       "      <th>Biscoe</th>\n",
       "      <th>Dream</th>\n",
       "      <th>Torgersen</th>\n",
       "    </tr>\n",
       "  </thead>\n",
       "  <tbody>\n",
       "    <tr>\n",
       "      <th>0</th>\n",
       "      <td>Adelie</td>\n",
       "      <td>Torgersen</td>\n",
       "      <td>39.1</td>\n",
       "      <td>18.7</td>\n",
       "      <td>181.0</td>\n",
       "      <td>3750.0</td>\n",
       "      <td>Male</td>\n",
       "      <td>0.0</td>\n",
       "      <td>0.0</td>\n",
       "      <td>1.0</td>\n",
       "    </tr>\n",
       "    <tr>\n",
       "      <th>1</th>\n",
       "      <td>Adelie</td>\n",
       "      <td>Torgersen</td>\n",
       "      <td>39.5</td>\n",
       "      <td>17.4</td>\n",
       "      <td>186.0</td>\n",
       "      <td>3800.0</td>\n",
       "      <td>Female</td>\n",
       "      <td>0.0</td>\n",
       "      <td>0.0</td>\n",
       "      <td>1.0</td>\n",
       "    </tr>\n",
       "    <tr>\n",
       "      <th>2</th>\n",
       "      <td>Adelie</td>\n",
       "      <td>Torgersen</td>\n",
       "      <td>40.3</td>\n",
       "      <td>18.0</td>\n",
       "      <td>195.0</td>\n",
       "      <td>3250.0</td>\n",
       "      <td>Female</td>\n",
       "      <td>0.0</td>\n",
       "      <td>0.0</td>\n",
       "      <td>1.0</td>\n",
       "    </tr>\n",
       "    <tr>\n",
       "      <th>3</th>\n",
       "      <td>Adelie</td>\n",
       "      <td>Torgersen</td>\n",
       "      <td>NaN</td>\n",
       "      <td>NaN</td>\n",
       "      <td>NaN</td>\n",
       "      <td>NaN</td>\n",
       "      <td>NaN</td>\n",
       "      <td>0.0</td>\n",
       "      <td>0.0</td>\n",
       "      <td>1.0</td>\n",
       "    </tr>\n",
       "    <tr>\n",
       "      <th>4</th>\n",
       "      <td>Adelie</td>\n",
       "      <td>Torgersen</td>\n",
       "      <td>36.7</td>\n",
       "      <td>19.3</td>\n",
       "      <td>193.0</td>\n",
       "      <td>3450.0</td>\n",
       "      <td>Female</td>\n",
       "      <td>0.0</td>\n",
       "      <td>0.0</td>\n",
       "      <td>1.0</td>\n",
       "    </tr>\n",
       "    <tr>\n",
       "      <th>...</th>\n",
       "      <td>...</td>\n",
       "      <td>...</td>\n",
       "      <td>...</td>\n",
       "      <td>...</td>\n",
       "      <td>...</td>\n",
       "      <td>...</td>\n",
       "      <td>...</td>\n",
       "      <td>...</td>\n",
       "      <td>...</td>\n",
       "      <td>...</td>\n",
       "    </tr>\n",
       "    <tr>\n",
       "      <th>339</th>\n",
       "      <td>Gentoo</td>\n",
       "      <td>Biscoe</td>\n",
       "      <td>NaN</td>\n",
       "      <td>NaN</td>\n",
       "      <td>NaN</td>\n",
       "      <td>NaN</td>\n",
       "      <td>NaN</td>\n",
       "      <td>1.0</td>\n",
       "      <td>0.0</td>\n",
       "      <td>0.0</td>\n",
       "    </tr>\n",
       "    <tr>\n",
       "      <th>340</th>\n",
       "      <td>Gentoo</td>\n",
       "      <td>Biscoe</td>\n",
       "      <td>46.8</td>\n",
       "      <td>14.3</td>\n",
       "      <td>215.0</td>\n",
       "      <td>4850.0</td>\n",
       "      <td>Female</td>\n",
       "      <td>1.0</td>\n",
       "      <td>0.0</td>\n",
       "      <td>0.0</td>\n",
       "    </tr>\n",
       "    <tr>\n",
       "      <th>341</th>\n",
       "      <td>Gentoo</td>\n",
       "      <td>Biscoe</td>\n",
       "      <td>50.4</td>\n",
       "      <td>15.7</td>\n",
       "      <td>222.0</td>\n",
       "      <td>5750.0</td>\n",
       "      <td>Male</td>\n",
       "      <td>1.0</td>\n",
       "      <td>0.0</td>\n",
       "      <td>0.0</td>\n",
       "    </tr>\n",
       "    <tr>\n",
       "      <th>342</th>\n",
       "      <td>Gentoo</td>\n",
       "      <td>Biscoe</td>\n",
       "      <td>45.2</td>\n",
       "      <td>14.8</td>\n",
       "      <td>212.0</td>\n",
       "      <td>5200.0</td>\n",
       "      <td>Female</td>\n",
       "      <td>1.0</td>\n",
       "      <td>0.0</td>\n",
       "      <td>0.0</td>\n",
       "    </tr>\n",
       "    <tr>\n",
       "      <th>343</th>\n",
       "      <td>Gentoo</td>\n",
       "      <td>Biscoe</td>\n",
       "      <td>49.9</td>\n",
       "      <td>16.1</td>\n",
       "      <td>213.0</td>\n",
       "      <td>5400.0</td>\n",
       "      <td>Male</td>\n",
       "      <td>1.0</td>\n",
       "      <td>0.0</td>\n",
       "      <td>0.0</td>\n",
       "    </tr>\n",
       "  </tbody>\n",
       "</table>\n",
       "<p>344 rows × 10 columns</p>\n",
       "</div>"
      ],
      "text/plain": [
       "    species     island  bill_length_mm  bill_depth_mm  flipper_length_mm  \\\n",
       "0    Adelie  Torgersen            39.1           18.7              181.0   \n",
       "1    Adelie  Torgersen            39.5           17.4              186.0   \n",
       "2    Adelie  Torgersen            40.3           18.0              195.0   \n",
       "3    Adelie  Torgersen             NaN            NaN                NaN   \n",
       "4    Adelie  Torgersen            36.7           19.3              193.0   \n",
       "..      ...        ...             ...            ...                ...   \n",
       "339  Gentoo     Biscoe             NaN            NaN                NaN   \n",
       "340  Gentoo     Biscoe            46.8           14.3              215.0   \n",
       "341  Gentoo     Biscoe            50.4           15.7              222.0   \n",
       "342  Gentoo     Biscoe            45.2           14.8              212.0   \n",
       "343  Gentoo     Biscoe            49.9           16.1              213.0   \n",
       "\n",
       "     body_mass_g     sex  Biscoe  Dream  Torgersen  \n",
       "0         3750.0    Male     0.0    0.0        1.0  \n",
       "1         3800.0  Female     0.0    0.0        1.0  \n",
       "2         3250.0  Female     0.0    0.0        1.0  \n",
       "3            NaN     NaN     0.0    0.0        1.0  \n",
       "4         3450.0  Female     0.0    0.0        1.0  \n",
       "..           ...     ...     ...    ...        ...  \n",
       "339          NaN     NaN     1.0    0.0        0.0  \n",
       "340       4850.0  Female     1.0    0.0        0.0  \n",
       "341       5750.0    Male     1.0    0.0        0.0  \n",
       "342       5200.0  Female     1.0    0.0        0.0  \n",
       "343       5400.0    Male     1.0    0.0        0.0  \n",
       "\n",
       "[344 rows x 10 columns]"
      ]
     },
     "execution_count": 21,
     "metadata": {},
     "output_type": "execute_result"
    }
   ],
   "source": [
    "# Adds these columns as a seperate column in the DataFrame\n",
    "\n",
    "data2[ohe.categories_[0]] = transform.toarray()\n",
    "\n",
    "data2"
   ]
  }
 ],
 "metadata": {
  "kernelspec": {
   "display_name": "Python 3 (ipykernel)",
   "language": "python",
   "name": "python3"
  },
  "language_info": {
   "codemirror_mode": {
    "name": "ipython",
    "version": 3
   },
   "file_extension": ".py",
   "mimetype": "text/x-python",
   "name": "python",
   "nbconvert_exporter": "python",
   "pygments_lexer": "ipython3",
   "version": "3.9.13"
  }
 },
 "nbformat": 4,
 "nbformat_minor": 5
}
